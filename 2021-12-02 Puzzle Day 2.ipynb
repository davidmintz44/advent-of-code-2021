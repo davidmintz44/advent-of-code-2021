{
 "cells": [
  {
   "cell_type": "markdown",
   "id": "d7d0b396",
   "metadata": {},
   "source": [
    "# Advent of Code\n",
    "## Day 2: Dive!\n",
    "\n",
    "Now, you need to figure out how to pilot this thing.\n",
    "\n",
    "It seems like the submarine can take a series of commands like forward 1, down 2, or up 3:\n",
    "\n",
    "- forward X increases the horizontal position by X units.\n",
    "- down X increases the depth by X units.\n",
    "- up X decreases the depth by X units.\n",
    "\n",
    "\n",
    "Note that since you're on a submarine, down and up affect your depth, and so they have the opposite result of what you might expect.\n",
    "\n",
    "### Part 1\n",
    "\n",
    "The submarine seems to already have a planned course (your puzzle input). You should probably figure out where it's going. For example:\n",
    "\n",
    "`\n",
    "forward 5\n",
    "down 5\n",
    "forward 8\n",
    "up 3\n",
    "down 8\n",
    "forward 2\n",
    "`\n",
    "\n",
    "Your horizontal position and depth both start at 0. The steps above would then modify them as follows:\n",
    "\n",
    "- forward 5 adds 5 to your horizontal position, a total of 5.\n",
    "- down 5 adds 5 to your depth, resulting in a value of 5.\n",
    "- forward 8 adds 8 to your horizontal position, a total of 13.\n",
    "- up 3 decreases your depth by 3, resulting in a value of 2.\n",
    "- down 8 adds 8 to your depth, resulting in a value of 10.\n",
    "- forward 2 adds 2 to your horizontal position, a total of 15.\n",
    "\n",
    "After following these instructions, you would have a horizontal position of 15 and a depth of 10. (Multiplying these together produces 150.)\n",
    "\n",
    "Calculate the horizontal position and depth you would have after following the planned course. What do you get if you multiply your final horizontal position by your final depth?\n",
    "\n",
    "To begin, get your puzzle input."
   ]
  },
  {
   "cell_type": "code",
   "execution_count": 27,
   "id": "fa1794f6",
   "metadata": {},
   "outputs": [
    {
     "name": "stdout",
     "output_type": "stream",
     "text": [
      "Horizontal starting point:  0\n",
      "Depth starting point:  0\n",
      "Horizontal position:  5\n",
      "Depth position:  0\n",
      "Horizontal position:  5\n",
      "Depth position:  5\n",
      "Horizontal position:  13\n",
      "Depth position:  5\n",
      "Horizontal position:  13\n",
      "Depth position:  2\n",
      "Horizontal position:  13\n",
      "Depth position:  10\n",
      "Horizontal position:  15\n",
      "Depth position:  10\n",
      "Horizontal ending point:  15\n",
      "Depth ending point:  10\n",
      "Product of these two items is  150\n"
     ]
    }
   ],
   "source": [
    "# Test\n",
    "test_input = []\n",
    "test_input.append('forward 5')\n",
    "test_input.append('down 5')\n",
    "test_input.append('forward 8')\n",
    "test_input.append('up 3')\n",
    "test_input.append('down 8')\n",
    "test_input.append('forward 2')\n",
    "\n",
    "horizontal = 0\n",
    "depth = 0\n",
    "\n",
    "print('Horizontal starting point: ', str(horizontal))\n",
    "print('Depth starting point: ', str(depth))\n",
    "\n",
    "for text in test_input:\n",
    "    s = text.split(' ')\n",
    "    action, num = s\n",
    "    \n",
    "    if action == 'forward':\n",
    "        horizontal += int(num)\n",
    "    elif action == 'down':\n",
    "        depth += int(num)\n",
    "    else:\n",
    "        depth -= int(num)\n",
    "      \n",
    "    print('Horizontal position: ', str(horizontal))\n",
    "    print('Depth position: ', str(depth))\n",
    "    \n",
    "print('Horizontal ending point: ', str(horizontal))\n",
    "print('Depth ending point: ', str(depth))\n",
    "\n",
    "print('Product of these two items is ', str(horizontal * depth))"
   ]
  },
  {
   "cell_type": "code",
   "execution_count": 28,
   "id": "9330722a",
   "metadata": {},
   "outputs": [
    {
     "name": "stdout",
     "output_type": "stream",
     "text": [
      "1000\n",
      "['forward 9', 'down 3', 'down 8', 'forward 2', 'up 3', 'forward 5', 'up 8', 'down 2', 'down 5', 'up 7']\n"
     ]
    }
   ],
   "source": [
    "# Read in the data\n",
    "with open('Day 2 input.txt', 'r') as f:\n",
    "    my_input = []\n",
    "    for item in f:\n",
    "        my_input.append(item[:-1])\n",
    "        \n",
    "\n",
    "print(len(my_input))\n",
    "print(my_input[:10])"
   ]
  },
  {
   "cell_type": "code",
   "execution_count": 29,
   "id": "cfeda4a7",
   "metadata": {},
   "outputs": [
    {
     "name": "stdout",
     "output_type": "stream",
     "text": [
      "Horizontal starting point:  0\n",
      "Depth starting point:  0\n",
      "Horizontal ending point:  2024\n",
      "Depth ending point:  717\n",
      "Product of these two items is  1451208\n"
     ]
    }
   ],
   "source": [
    "horizontal = 0\n",
    "depth = 0\n",
    "\n",
    "print('Horizontal starting point: ', str(horizontal))\n",
    "print('Depth starting point: ', str(depth))\n",
    "\n",
    "for text in my_input:\n",
    "    s = text.split(' ')\n",
    "    action, num = s\n",
    "    \n",
    "    if action == 'forward':\n",
    "        horizontal += int(num)\n",
    "    elif action == 'down':\n",
    "        depth += int(num)\n",
    "    else:\n",
    "        depth -= int(num)\n",
    "      \n",
    "    # print('Horizontal position: ', str(horizontal))\n",
    "    # print('Depth position: ', str(depth))\n",
    "    \n",
    "print('Horizontal ending point: ', str(horizontal))\n",
    "print('Depth ending point: ', str(depth))\n",
    "\n",
    "print('Product of these two items is ', str(horizontal * depth))"
   ]
  },
  {
   "cell_type": "markdown",
   "id": "7d2f6908",
   "metadata": {},
   "source": [
    "### Part 2\n",
    "\n",
    "Based on your calculations, the planned course doesn't seem to make any sense. You find the submarine manual and discover that the process is actually slightly more complicated.\n",
    "\n",
    "In addition to horizontal position and depth, you'll also need to track a third value, aim, which also starts at 0. The commands also mean something entirely different than you first thought:\n",
    "\n",
    "- down X increases your aim by X units.\n",
    "- up X decreases your aim by X units.\n",
    "- forward X does two things:\n",
    "    - It increases your horizontal position by X units.\n",
    "    - It increases your depth by your aim multiplied by X.\n",
    "\n",
    "Again note that since you're on a submarine, down and up do the opposite of what you might expect: \"down\" means aiming in the positive direction.\n",
    "\n",
    "Now, the above example does something different:\n",
    "\n",
    "- forward 5 adds 5 to your horizontal position, a total of 5. Because your aim is 0, your depth does not change.\n",
    "- down 5 adds 5 to your aim, resulting in a value of 5.\n",
    "- forward 8 adds 8 to your horizontal position, a total of 13. Because your aim is 5, your depth increases by 8*5=40.\n",
    "- up 3 decreases your aim by 3, resulting in a value of 2.\n",
    "- down 8 adds 8 to your aim, resulting in a value of 10.\n",
    "- forward 2 adds 2 to your horizontal position, a total of 15. Because your aim is 10, your depth increases by 2*10=20 to a total of 60.\n",
    "\n",
    "After following these new instructions, you would have a horizontal position of 15 and a depth of 60. (Multiplying these produces 900.)\n",
    "\n",
    "Using this new interpretation of the commands, calculate the horizontal position and depth you would have after following the planned course. What do you get if you multiply your final horizontal position by your final depth?"
   ]
  },
  {
   "cell_type": "code",
   "execution_count": 30,
   "id": "61109310",
   "metadata": {},
   "outputs": [
    {
     "name": "stdout",
     "output_type": "stream",
     "text": [
      "Horizontal starting point:  0\n",
      "Depth starting point:  0\n",
      "Aim starting point:  0\n",
      "\r\n",
      "forward 5\n",
      "Horizontal position:  5\n",
      "Depth position:  0\n",
      "Aim:  0\n",
      "\r\n",
      "down 5\n",
      "Horizontal position:  5\n",
      "Depth position:  0\n",
      "Aim:  5\n",
      "\r\n",
      "forward 8\n",
      "Horizontal position:  13\n",
      "Depth position:  40\n",
      "Aim:  5\n",
      "\r\n",
      "up 3\n",
      "Horizontal position:  13\n",
      "Depth position:  40\n",
      "Aim:  2\n",
      "\r\n",
      "down 8\n",
      "Horizontal position:  13\n",
      "Depth position:  40\n",
      "Aim:  10\n",
      "\r\n",
      "forward 2\n",
      "Horizontal position:  15\n",
      "Depth position:  60\n",
      "Aim:  10\n",
      "\r\n",
      "Horizontal ending point:  15\n",
      "Depth ending point:  60\n",
      "Aim ending point:  10\n",
      "\r\n",
      "Product of horizontal and depth positions is  900\n"
     ]
    }
   ],
   "source": [
    "# Test\n",
    "horizontal = 0\n",
    "depth = 0\n",
    "aim = 0\n",
    "\n",
    "print('Horizontal starting point: ', str(horizontal))\n",
    "print('Depth starting point: ', str(depth))\n",
    "print('Aim starting point: ', str(aim))\n",
    "print('\\r')\n",
    "\n",
    "for text in test_input:\n",
    "    print(text)\n",
    "    s = text.split(' ')\n",
    "    action, num = s\n",
    "    \n",
    "    if action == 'forward':\n",
    "        horizontal += int(num)\n",
    "        depth = depth + aim * int(num)\n",
    "    elif action == 'down':\n",
    "        aim += int(num)\n",
    "    else:\n",
    "        aim -= int(num)\n",
    "    \n",
    "    print('Horizontal position: ', str(horizontal))\n",
    "    print('Depth position: ', str(depth))\n",
    "    print('Aim: ', str(aim))\n",
    "    print('\\r')\n",
    "    \n",
    "print('Horizontal ending point: ', str(horizontal))\n",
    "print('Depth ending point: ', str(depth))\n",
    "print('Aim ending point: ', str(aim))\n",
    "print('\\r')\n",
    "\n",
    "print('Product of horizontal and depth positions is ', str(horizontal * depth))"
   ]
  },
  {
   "cell_type": "code",
   "execution_count": 31,
   "id": "78b38d86",
   "metadata": {},
   "outputs": [
    {
     "name": "stdout",
     "output_type": "stream",
     "text": [
      "Horizontal starting point:  0\n",
      "Depth starting point:  0\n",
      "Aim starting point:  0\n",
      "\r\n",
      "Horizontal ending point:  2024\n",
      "Depth ending point:  800465\n",
      "Aim ending point:  717\n",
      "\r\n",
      "Product of horizontal and depth positions is  1620141160\n"
     ]
    }
   ],
   "source": [
    "# Test\n",
    "horizontal = 0\n",
    "depth = 0\n",
    "aim = 0\n",
    "\n",
    "print('Horizontal starting point: ', str(horizontal))\n",
    "print('Depth starting point: ', str(depth))\n",
    "print('Aim starting point: ', str(aim))\n",
    "print('\\r')\n",
    "\n",
    "for text in my_input:\n",
    "    #print(text)\n",
    "    s = text.split(' ')\n",
    "    action, num = s\n",
    "    \n",
    "    if action == 'forward':\n",
    "        horizontal += int(num)\n",
    "        depth = depth + aim * int(num)\n",
    "    elif action == 'down':\n",
    "        aim += int(num)\n",
    "    else:\n",
    "        aim -= int(num)\n",
    "    \n",
    "    #print('Horizontal position: ', str(horizontal))\n",
    "    #print('Depth position: ', str(depth))\n",
    "    #print('Aim: ', str(aim))\n",
    "    #print('\\r')\n",
    "    \n",
    "print('Horizontal ending point: ', str(horizontal))\n",
    "print('Depth ending point: ', str(depth))\n",
    "print('Aim ending point: ', str(aim))\n",
    "print('\\r')\n",
    "\n",
    "print('Product of horizontal and depth positions is ', str(horizontal * depth))"
   ]
  },
  {
   "cell_type": "markdown",
   "id": "b71f23d7",
   "metadata": {},
   "source": [
    "### Run Time"
   ]
  },
  {
   "cell_type": "code",
   "execution_count": 32,
   "id": "b3bdbc1d",
   "metadata": {},
   "outputs": [
    {
     "name": "stdout",
     "output_type": "stream",
     "text": [
      "1.11 ms ± 75.5 µs per loop (mean ± std. dev. of 7 runs, 1000 loops each)\n"
     ]
    }
   ],
   "source": [
    "%%timeit\n",
    "horizontal = 0\n",
    "depth = 0\n",
    "\n",
    "for text in my_input:\n",
    "    s = text.split(' ')\n",
    "    action, num = s\n",
    "    \n",
    "    if action == 'forward':\n",
    "        horizontal += int(num)\n",
    "    elif action == 'down':\n",
    "        depth += int(num)\n",
    "    else:\n",
    "        depth -= int(num)"
   ]
  },
  {
   "cell_type": "code",
   "execution_count": 33,
   "id": "52a89d52",
   "metadata": {},
   "outputs": [
    {
     "name": "stdout",
     "output_type": "stream",
     "text": [
      "1.3 ms ± 71.1 µs per loop (mean ± std. dev. of 7 runs, 1000 loops each)\n"
     ]
    }
   ],
   "source": [
    "%%timeit\n",
    "horizontal = 0\n",
    "depth = 0\n",
    "aim = 0\n",
    "\n",
    "for text in my_input:\n",
    "    s = text.split(' ')\n",
    "    action, num = s\n",
    "    \n",
    "    if action == 'forward':\n",
    "        horizontal += int(num)\n",
    "        depth = depth + aim * int(num)\n",
    "    elif action == 'down':\n",
    "        aim += int(num)\n",
    "    else:\n",
    "        aim -= int(num)"
   ]
  }
 ],
 "metadata": {
  "kernelspec": {
   "display_name": "Python 3 (ipykernel)",
   "language": "python",
   "name": "python3"
  },
  "language_info": {
   "codemirror_mode": {
    "name": "ipython",
    "version": 3
   },
   "file_extension": ".py",
   "mimetype": "text/x-python",
   "name": "python",
   "nbconvert_exporter": "python",
   "pygments_lexer": "ipython3",
   "version": "3.8.8"
  }
 },
 "nbformat": 4,
 "nbformat_minor": 5
}
