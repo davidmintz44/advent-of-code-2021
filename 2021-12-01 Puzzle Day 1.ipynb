{
 "cells": [
  {
   "cell_type": "markdown",
   "id": "d7d0b396",
   "metadata": {},
   "source": [
    "# Advent of Code\n",
    "## Day 1: Sonar Sweep\n",
    "\n",
    "You're minding your own business on a ship at sea when the overboard alarm goes off! You rush to see if you can help. Apparently, one of the Elves tripped and accidentally sent the sleigh keys flying into the ocean!\n",
    "\n",
    "Before you know it, you're inside a submarine the Elves keep ready for situations like this. It's covered in Christmas lights (because of course it is), and it even has an experimental antenna that should be able to track the keys if you can boost its signal strength high enough; there's a little meter that indicates the antenna's signal strength by displaying 0-50 stars.\n",
    "\n",
    "Your instincts tell you that in order to save Christmas, you'll need to get all fifty stars by December 25th.\n",
    "\n",
    "Collect stars by solving puzzles. Two puzzles will be made available on each day in the Advent calendar; the second puzzle is unlocked when you complete the first. Each puzzle grants one star. Good luck!\n",
    "\n",
    "### Part 1\n",
    "\n",
    "As the submarine drops below the surface of the ocean, it automatically performs a sonar sweep of the nearby sea floor. On a small screen, the sonar sweep report (your puzzle input) appears: each line is a measurement of the sea floor depth as the sweep looks further and further away from the submarine.\n",
    "\n",
    "For example, suppose you had the following report:\n",
    "\n",
    "`\n",
    "199\n",
    "200\n",
    "208\n",
    "210\n",
    "200\n",
    "207\n",
    "240\n",
    "269\n",
    "260\n",
    "263\n",
    "`\n",
    "\n",
    "This report indicates that, scanning outward from the submarine, the sonar sweep found depths of 199, 200, 208, 210, and so on.\n",
    "\n",
    "The first order of business is to figure out how quickly the depth increases, just so you know what you're dealing with - you never know if the keys will get carried into deeper water by an ocean current or a fish or something.\n",
    "\n",
    "To do this, count the number of times a depth measurement increases from the previous measurement. (There is no measurement before the first measurement.) In the example above, the changes are as follows:\n",
    "\n",
    "`\n",
    "199 (N/A - no previous measurement)\n",
    "200 (increased)\n",
    "208 (increased)\n",
    "210 (increased)\n",
    "200 (decreased)\n",
    "207 (increased)\n",
    "240 (increased)\n",
    "269 (increased)\n",
    "260 (decreased)\n",
    "263 (increased)\n",
    "`\n",
    "\n",
    "In this example, there are 7 measurements that are larger than the previous measurement.\n",
    "\n",
    "How many measurements are larger than the previous measurement?"
   ]
  },
  {
   "cell_type": "code",
   "execution_count": 7,
   "id": "fa1794f6",
   "metadata": {},
   "outputs": [
    {
     "name": "stdout",
     "output_type": "stream",
     "text": [
      "Number of increasing measurements:  7\n"
     ]
    }
   ],
   "source": [
    "# Test\n",
    "test_input = [199, 200, 208, 210, 200, 207, 240, 269, 260, 263]\n",
    "increasing = 0\n",
    "\n",
    "for i in range(len(test_input) - 1):\n",
    "    old = test_input[i]\n",
    "    new = test_input[i+1]\n",
    "    \n",
    "    if new > old:\n",
    "        increasing += 1\n",
    "        \n",
    "print('Number of increasing measurements: ', increasing)"
   ]
  },
  {
   "cell_type": "code",
   "execution_count": 9,
   "id": "dd3f3723",
   "metadata": {},
   "outputs": [
    {
     "name": "stdout",
     "output_type": "stream",
     "text": [
      "2000\n"
     ]
    }
   ],
   "source": [
    "# Read in the data\n",
    "with open('Day 1 input.txt', 'r') as f:\n",
    "    my_input = []\n",
    "    for item in f:\n",
    "        my_input.append(int(item))\n",
    "\n",
    "print(len(my_input))"
   ]
  },
  {
   "cell_type": "code",
   "execution_count": 10,
   "id": "a62d22ff",
   "metadata": {},
   "outputs": [
    {
     "name": "stdout",
     "output_type": "stream",
     "text": [
      "Number of increasing measurements:  1266\n"
     ]
    }
   ],
   "source": [
    "increasing = 0\n",
    "\n",
    "for i in range(len(my_input) - 1):\n",
    "    old = my_input[i]\n",
    "    new = my_input[i+1]\n",
    "    \n",
    "    if new > old:\n",
    "        increasing += 1\n",
    "        \n",
    "print('Number of increasing measurements: ', increasing)"
   ]
  },
  {
   "cell_type": "markdown",
   "id": "798c436b",
   "metadata": {},
   "source": [
    "### Part 2\n",
    "\n",
    "Considering every single measurement isn't as useful as you expected: there's just too much noise in the data.\n",
    "\n",
    "Instead, consider sums of a three-measurement sliding window. Again considering the above example:\n",
    "\n",
    "`\n",
    "199  A      \n",
    "200  A B    \n",
    "208  A B C  \n",
    "210    B C D\n",
    "200  E   C D\n",
    "207  E F   D\n",
    "240  E F G  \n",
    "269    F G H\n",
    "260      G H\n",
    "263        H\n",
    "`\n",
    "\n",
    "Start by comparing the first and second three-measurement windows. The measurements in the first window are marked A (199, 200, 208); their sum is 199 + 200 + 208 = 607. The second window is marked B (200, 208, 210); its sum is 618. The sum of measurements in the second window is larger than the sum of the first, so this first comparison increased.\n",
    "\n",
    "Your goal now is to count the number of times the sum of measurements in this sliding window increases from the previous sum. So, compare A with B, then compare B with C, then C with D, and so on. Stop when there aren't enough measurements left to create a new three-measurement sum.\n",
    "\n",
    "In the above example, the sum of each three-measurement window is as follows:\n",
    "\n",
    "`\n",
    "A: 607 (N/A - no previous sum)\n",
    "B: 618 (increased)\n",
    "C: 618 (no change)\n",
    "D: 617 (decreased)\n",
    "E: 647 (increased)\n",
    "F: 716 (increased)\n",
    "G: 769 (increased)\n",
    "H: 792 (increased)\n",
    "`\n",
    "\n",
    "In this example, there are 5 sums that are larger than the previous sum.\n",
    "\n",
    "Consider sums of a three-measurement sliding window. How many sums are larger than the previous sum?"
   ]
  },
  {
   "cell_type": "code",
   "execution_count": 11,
   "id": "c30b271d",
   "metadata": {},
   "outputs": [
    {
     "name": "stdout",
     "output_type": "stream",
     "text": [
      "Number of increasing measurements:  5\n"
     ]
    }
   ],
   "source": [
    "# Test\n",
    "test_input = [199, 200, 208, 210, 200, 207, 240, 269, 260, 263]\n",
    "increasing = 0\n",
    "\n",
    "for i in range(len(test_input) - 3):\n",
    "    first = test_input[i]\n",
    "    second = test_input[i+1]\n",
    "    third = test_input[i+2]\n",
    "    fourth = test_input[i+3]\n",
    "    \n",
    "    window_one = first + second + third\n",
    "    window_two = second + third + fourth\n",
    "    \n",
    "    if window_two > window_one:\n",
    "        increasing += 1\n",
    "        \n",
    "print('Number of increasing measurements: ', increasing)"
   ]
  },
  {
   "cell_type": "code",
   "execution_count": 12,
   "id": "342f92da",
   "metadata": {},
   "outputs": [
    {
     "name": "stdout",
     "output_type": "stream",
     "text": [
      "Number of increasing measurements:  1217\n"
     ]
    }
   ],
   "source": [
    "increasing = 0\n",
    "\n",
    "for i in range(len(my_input) - 3):\n",
    "    first = my_input[i]\n",
    "    second = my_input[i+1]\n",
    "    third = my_input[i+2]\n",
    "    fourth = my_input[i+3]\n",
    "    \n",
    "    window_one = first + second + third\n",
    "    window_two = second + third + fourth\n",
    "    \n",
    "    if window_two > window_one:\n",
    "        increasing += 1\n",
    "        \n",
    "print('Number of increasing measurements: ', increasing)"
   ]
  },
  {
   "cell_type": "markdown",
   "id": "b2174494",
   "metadata": {},
   "source": [
    "### Run Time"
   ]
  },
  {
   "cell_type": "code",
   "execution_count": 13,
   "id": "2a2f35a1",
   "metadata": {},
   "outputs": [
    {
     "name": "stdout",
     "output_type": "stream",
     "text": [
      "541 µs ± 42.6 µs per loop (mean ± std. dev. of 7 runs, 1000 loops each)\n"
     ]
    }
   ],
   "source": [
    "%%timeit\n",
    "increasing = 0\n",
    "\n",
    "for i in range(len(my_input) - 1):\n",
    "    old = my_input[i]\n",
    "    new = my_input[i+1]\n",
    "    \n",
    "    if new > old:\n",
    "        increasing += 1\n",
    "        \n",
    "# print('Number of increasing measurements: ', increasing)"
   ]
  },
  {
   "cell_type": "code",
   "execution_count": 14,
   "id": "bab3c328",
   "metadata": {},
   "outputs": [
    {
     "name": "stdout",
     "output_type": "stream",
     "text": [
      "1.03 ms ± 30 µs per loop (mean ± std. dev. of 7 runs, 1000 loops each)\n"
     ]
    }
   ],
   "source": [
    "%%timeit\n",
    "increasing = 0\n",
    "\n",
    "for i in range(len(my_input) - 3):\n",
    "    first = my_input[i]\n",
    "    second = my_input[i+1]\n",
    "    third = my_input[i+2]\n",
    "    fourth = my_input[i+3]\n",
    "    \n",
    "    window_one = first + second + third\n",
    "    window_two = second + third + fourth\n",
    "    \n",
    "    if window_two > window_one:\n",
    "        increasing += 1\n",
    "        \n",
    "# print('Number of increasing measurements: ', increasing)"
   ]
  },
  {
   "cell_type": "code",
   "execution_count": 23,
   "id": "62a15b8d",
   "metadata": {},
   "outputs": [
    {
     "name": "stdout",
     "output_type": "stream",
     "text": [
      "Number of increasing measurements:  1217\n"
     ]
    }
   ],
   "source": [
    "# Alternative to second loop\n",
    "increasing = 0\n",
    "\n",
    "for i in range(len(my_input) - 3):\n",
    "    window = []\n",
    "    for j in range(4):\n",
    "        window.append(my_input[i+j])\n",
    "    \n",
    "    if sum(window[1:]) > sum(window[:3]):\n",
    "        increasing += 1\n",
    "        \n",
    "print('Number of increasing measurements: ', increasing)"
   ]
  },
  {
   "cell_type": "code",
   "execution_count": 26,
   "id": "7f96573e",
   "metadata": {},
   "outputs": [
    {
     "name": "stdout",
     "output_type": "stream",
     "text": [
      "3.51 ms ± 276 µs per loop (mean ± std. dev. of 7 runs, 100 loops each)\n"
     ]
    }
   ],
   "source": [
    "%%timeit\n",
    "increasing = 0\n",
    "\n",
    "for i in range(len(my_input) - 3):\n",
    "    window = []\n",
    "    for j in range(4):\n",
    "        window.append(my_input[i+j])\n",
    "    \n",
    "    if sum(window[1:]) > sum(window[:3]):\n",
    "        increasing += 1\n",
    "        \n",
    "# print('Number of increasing measurements: ', increasing)"
   ]
  },
  {
   "cell_type": "code",
   "execution_count": 27,
   "id": "2f878345",
   "metadata": {},
   "outputs": [
    {
     "name": "stdout",
     "output_type": "stream",
     "text": [
      "Number of increasing measurements:  1217\n"
     ]
    }
   ],
   "source": [
    "# Actually, be a bit more sensible about this. \n",
    "# In a 3-number window, 2 of the numbers will always be the same so the\n",
    "# difference of the calculation only depends on the outer elements\n",
    "\n",
    "increasing = 0\n",
    "\n",
    "for i in range(len(my_input) - 3):\n",
    "    first = my_input[i]\n",
    "    fourth = my_input[i+3]\n",
    "    \n",
    "    if fourth > first:\n",
    "        increasing += 1\n",
    "        \n",
    "print('Number of increasing measurements: ', increasing)"
   ]
  },
  {
   "cell_type": "code",
   "execution_count": 29,
   "id": "746c0b38",
   "metadata": {},
   "outputs": [
    {
     "name": "stdout",
     "output_type": "stream",
     "text": [
      "401 µs ± 16.6 µs per loop (mean ± std. dev. of 7 runs, 1000 loops each)\n"
     ]
    }
   ],
   "source": [
    "%%timeit\n",
    "# Actually, be a bit more sensible about this. \n",
    "# In a 3-number window, 2 of the numbers will always be the same so the\n",
    "# difference of the calculation only depends on the outer elements\n",
    "\n",
    "increasing = 0\n",
    "\n",
    "for i in range(len(my_input) - 3):\n",
    "    first = my_input[i]\n",
    "    fourth = my_input[i+3]\n",
    "    \n",
    "    if fourth > first:\n",
    "        increasing += 1\n",
    "        \n",
    "# print('Number of increasing measurements: ', increasing)"
   ]
  }
 ],
 "metadata": {
  "kernelspec": {
   "display_name": "Python 3 (ipykernel)",
   "language": "python",
   "name": "python3"
  },
  "language_info": {
   "codemirror_mode": {
    "name": "ipython",
    "version": 3
   },
   "file_extension": ".py",
   "mimetype": "text/x-python",
   "name": "python",
   "nbconvert_exporter": "python",
   "pygments_lexer": "ipython3",
   "version": "3.8.8"
  }
 },
 "nbformat": 4,
 "nbformat_minor": 5
}
