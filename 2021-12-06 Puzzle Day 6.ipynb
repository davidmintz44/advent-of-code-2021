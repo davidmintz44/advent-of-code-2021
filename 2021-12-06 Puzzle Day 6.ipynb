{
 "cells": [
  {
   "cell_type": "markdown",
   "id": "eb6f1dcd",
   "metadata": {},
   "source": [
    "# Advent of Code\n",
    "## Day 6: Lanternfish\n",
    "\n",
    "The sea floor is getting steeper. Maybe the sleigh keys got carried this way?\n",
    "\n",
    "A massive school of glowing lanternfish swims past. They must spawn quickly to reach such large numbers - maybe exponentially quickly? You should model their growth rate to be sure.\n",
    "\n",
    "### Part One\n",
    "\n",
    "Although you know nothing about this specific species of lanternfish, you make some guesses about their attributes. Surely, each lanternfish creates a new lanternfish once every 7 days.\n",
    "\n",
    "However, this process isn't necessarily synchronized between every lanternfish - one lanternfish might have 2 days left until it creates another lanternfish, while another might have 4. So, you can model each fish as a single number that represents the number of days until it creates a new lanternfish.\n",
    "\n",
    "Furthermore, you reason, a new lanternfish would surely need slightly longer before it's capable of producing more lanternfish: two more days for its first cycle.\n",
    "\n",
    "So, suppose you have a lanternfish with an internal timer value of 3:\n",
    "\n",
    "- After one day, its internal timer would become 2.\n",
    "- After another day, its internal timer would become 1.\n",
    "- After another day, its internal timer would become 0.\n",
    "- After another day, its internal timer would reset to 6, and it would create a new lanternfish with an internal timer of 8.\n",
    "- After another day, the first lanternfish would have an internal timer of 5, and the second lanternfish would have an internal timer of 7.\n",
    "\n",
    "A lanternfish that creates a new fish resets its timer to 6, not 7 (because 0 is included as a valid timer value). The new lanternfish starts with an internal timer of 8 and does not start counting down until the next day.\n",
    "\n",
    "Realizing what you're trying to do, the submarine automatically produces a list of the ages of several hundred nearby lanternfish (your puzzle input). For example, suppose you were given the following list:\n",
    "\n",
    "`3,4,3,1,2`\n",
    "\n",
    "This list means that the first fish has an internal timer of 3, the second fish has an internal timer of 4, and so on until the fifth fish, which has an internal timer of 2. Simulating these fish over several days would proceed as follows:\n",
    "\n",
    "`Initial state: 3,4,3,1,2\n",
    "After  1 day:  2,3,2,0,1\n",
    "After  2 days: 1,2,1,6,0,8\n",
    "After  3 days: 0,1,0,5,6,7,8\n",
    "After  4 days: 6,0,6,4,5,6,7,8,8\n",
    "After  5 days: 5,6,5,3,4,5,6,7,7,8\n",
    "After  6 days: 4,5,4,2,3,4,5,6,6,7\n",
    "After  7 days: 3,4,3,1,2,3,4,5,5,6\n",
    "After  8 days: 2,3,2,0,1,2,3,4,4,5\n",
    "After  9 days: 1,2,1,6,0,1,2,3,3,4,8\n",
    "After 10 days: 0,1,0,5,6,0,1,2,2,3,7,8\n",
    "After 11 days: 6,0,6,4,5,6,0,1,1,2,6,7,8,8,8\n",
    "After 12 days: 5,6,5,3,4,5,6,0,0,1,5,6,7,7,7,8,8\n",
    "After 13 days: 4,5,4,2,3,4,5,6,6,0,4,5,6,6,6,7,7,8,8\n",
    "After 14 days: 3,4,3,1,2,3,4,5,5,6,3,4,5,5,5,6,6,7,7,8\n",
    "After 15 days: 2,3,2,0,1,2,3,4,4,5,2,3,4,4,4,5,5,6,6,7\n",
    "After 16 days: 1,2,1,6,0,1,2,3,3,4,1,2,3,3,3,4,4,5,5,6,8\n",
    "After 17 days: 0,1,0,5,6,0,1,2,2,3,0,1,2,2,2,3,3,4,4,5,7,8\n",
    "After 18 days: 6,0,6,4,5,6,0,1,1,2,6,0,1,1,1,2,2,3,3,4,6,7,8,8,8,8`\n",
    "\n",
    "Each day, a 0 becomes a 6 and adds a new 8 to the end of the list, while each other number decreases by 1 if it was present at the start of the day.\n",
    "\n",
    "In this example, after 18 days, there are a total of 26 fish. After 80 days, there would be a total of 5934.\n",
    "\n",
    "Find a way to simulate lanternfish. How many lanternfish would there be after 80 days?"
   ]
  },
  {
   "cell_type": "code",
   "execution_count": 1,
   "id": "e5b38eb1",
   "metadata": {},
   "outputs": [],
   "source": [
    "import numpy as np"
   ]
  },
  {
   "cell_type": "code",
   "execution_count": 2,
   "id": "05b9e80d",
   "metadata": {},
   "outputs": [
    {
     "name": "stdout",
     "output_type": "stream",
     "text": [
      "After 80 days there are 5934 fish.\n"
     ]
    }
   ],
   "source": [
    "# Test Code\n",
    "fish = [3,4,3,1,2]\n",
    "days = 80\n",
    "\n",
    "# print('Initial state:', fish)\n",
    "\n",
    "for i in range(days):\n",
    "    new_fish = fish.count(0)\n",
    "        \n",
    "    for j, f in enumerate(fish):\n",
    "        if f == 0:\n",
    "            fish[j] = 6\n",
    "        else:\n",
    "            fish[j] = f - 1\n",
    "    \n",
    "    fish = fish + ([8] * new_fish)\n",
    "    \n",
    "    # print('After', i+1, 'days:', fish)\n",
    "    \n",
    "print('After', str(days), 'days there are', len(fish), 'fish.')"
   ]
  },
  {
   "cell_type": "code",
   "execution_count": 3,
   "id": "267ad2e6",
   "metadata": {},
   "outputs": [
    {
     "name": "stdout",
     "output_type": "stream",
     "text": [
      "After 80 days there are 5934 fish.\n"
     ]
    }
   ],
   "source": [
    "# Test Code - Try different approach using Numpy matrices\n",
    "fish = [3,4,3,1,2]\n",
    "days = 80\n",
    "d = 0\n",
    "\n",
    "# print('Initial state:', fish)\n",
    "\n",
    "# Set up a matrix to hold the initial values of the fish\n",
    "fish_mat = np.zeros((1, 9))\n",
    "for i in range(fish_mat.shape[1]):\n",
    "    fish_mat[0,i] = fish.count(i)\n",
    "    \n",
    "# Start updating the matrix values following the pattern for fish reproduction:\n",
    "while d < days:\n",
    "    # Position 0 - Move to position 6 and add new items to position 8\n",
    "    # Keep a record of the number of new fish\n",
    "    new_fish = fish_mat[0, 0]\n",
    "\n",
    "    # Start moving positions down 1 item\n",
    "    for i in range(fish_mat.shape[1] - 1):\n",
    "        fish_mat[0,i] = fish_mat[0,i+1]\n",
    "\n",
    "    # Add on the new fish\n",
    "    fish_mat[0, 6] += new_fish\n",
    "    fish_mat[0, 8] = new_fish\n",
    "\n",
    "    # print('After', str(d+1), 'days: ', str(fish_mat))\n",
    "    \n",
    "    # Move to the next day\n",
    "    d += 1\n",
    "\n",
    "print('After', str(days), 'days there are', str(int(fish_mat.sum())), 'fish.')"
   ]
  },
  {
   "cell_type": "code",
   "execution_count": 4,
   "id": "5cab1567",
   "metadata": {},
   "outputs": [],
   "source": [
    "# Read in the data\n",
    "with open('Day 6 input.txt', 'r') as f:\n",
    "    fish = f.read().split(',')\n",
    "        \n",
    "for i, f in enumerate(fish):\n",
    "    fish[i] = int(f)"
   ]
  },
  {
   "cell_type": "code",
   "execution_count": 5,
   "id": "9066a749",
   "metadata": {},
   "outputs": [
    {
     "name": "stdout",
     "output_type": "stream",
     "text": [
      "After 80 days there are 360268 fish.\n"
     ]
    }
   ],
   "source": [
    "# Original implementation using lists\n",
    "\n",
    "days = 80\n",
    "\n",
    "# print('Initial state:', fish)\n",
    "\n",
    "for i in range(days):\n",
    "    new_fish = fish.count(0)\n",
    "        \n",
    "    for j, f in enumerate(fish):\n",
    "        if f == 0:\n",
    "            fish[j] = 6\n",
    "        else:\n",
    "            fish[j] = f - 1\n",
    "    \n",
    "    fish = fish + ([8] * new_fish)\n",
    "    \n",
    "    # print('After', i+1, 'days:', fish)\n",
    "    \n",
    "print('After', str(days), 'days there are', len(fish), 'fish.')"
   ]
  },
  {
   "cell_type": "code",
   "execution_count": 6,
   "id": "5e872f21",
   "metadata": {},
   "outputs": [],
   "source": [
    "# Read in the data\n",
    "with open('Day 6 input.txt', 'r') as f:\n",
    "    fish = f.read().split(',')\n",
    "        \n",
    "for i, f in enumerate(fish):\n",
    "    fish[i] = int(f)"
   ]
  },
  {
   "cell_type": "code",
   "execution_count": 7,
   "id": "80ccee0c",
   "metadata": {},
   "outputs": [
    {
     "name": "stdout",
     "output_type": "stream",
     "text": [
      "After 80 days there are 360268 fish.\n"
     ]
    }
   ],
   "source": [
    "# Second implementation using Numpy arrays\n",
    "days = 80\n",
    "d = 0\n",
    "\n",
    "# print('Initial state:', fish)\n",
    "\n",
    "# Set up a matrix to hold the initial values of the fish\n",
    "fish_mat = np.zeros((1, 9))\n",
    "for i in range(fish_mat.shape[1]):\n",
    "    fish_mat[0,i] = fish.count(i)\n",
    "    \n",
    "# Start updating the matrix values following the pattern for fish reproduction:\n",
    "while d < days:\n",
    "    # Position 0 - Move to position 6 and add new items to position 8\n",
    "    # Keep a record of the number of new fish\n",
    "    new_fish = fish_mat[0, 0]\n",
    "\n",
    "    # Start moving positions down 1 item\n",
    "    for i in range(fish_mat.shape[1] - 1):\n",
    "        fish_mat[0,i] = fish_mat[0,i+1]\n",
    "\n",
    "    # Add on the new fish\n",
    "    fish_mat[0, 6] += new_fish\n",
    "    fish_mat[0, 8] = new_fish\n",
    "\n",
    "    # print('After', str(d+1), 'days: ', str(fish_mat))\n",
    "    \n",
    "    # Move to the next day\n",
    "    d += 1\n",
    "\n",
    "print('After', str(days), 'days there are', str(int(fish_mat.sum())), 'fish.')"
   ]
  },
  {
   "cell_type": "markdown",
   "id": "6f7d3003",
   "metadata": {},
   "source": [
    "### Part Two\n",
    "\n",
    "Suppose the lanternfish live forever and have unlimited food and space. Would they take over the entire ocean?\n",
    "\n",
    "After 256 days in the example above, there would be a total of 26984457539 lanternfish!\n",
    "\n",
    "How many lanternfish would there be after 256 days?"
   ]
  },
  {
   "cell_type": "code",
   "execution_count": 8,
   "id": "693052d1",
   "metadata": {},
   "outputs": [
    {
     "name": "stdout",
     "output_type": "stream",
     "text": [
      "After 256 days there are 26984457539 fish.\n"
     ]
    }
   ],
   "source": [
    "# Test Code - Try different approach using Numpy matrices\n",
    "fish = [3,4,3,1,2]\n",
    "days = 256\n",
    "d = 0\n",
    "\n",
    "# print('Initial state:', fish)\n",
    "\n",
    "# Set up a matrix to hold the initial values of the fish\n",
    "fish_mat = np.zeros((1, 9))\n",
    "for i in range(fish_mat.shape[1]):\n",
    "    fish_mat[0,i] = fish.count(i)\n",
    "    \n",
    "# Start updating the matrix values following the pattern for fish reproduction:\n",
    "while d < days:\n",
    "    # Position 0 - Move to position 6 and add new items to position 8\n",
    "    # Keep a record of the number of new fish\n",
    "    new_fish = fish_mat[0, 0]\n",
    "\n",
    "    # Start moving positions down 1 item\n",
    "    for i in range(fish_mat.shape[1] - 1):\n",
    "        fish_mat[0,i] = fish_mat[0,i+1]\n",
    "\n",
    "    # Add on the new fish\n",
    "    fish_mat[0, 6] += new_fish\n",
    "    fish_mat[0, 8] = new_fish\n",
    "\n",
    "    # print('After', str(d+1), 'days: ', str(fish_mat))\n",
    "    \n",
    "    # Move to the next day\n",
    "    d += 1\n",
    "\n",
    "print('After', str(days), 'days there are', str(int(fish_mat.sum())), 'fish.')"
   ]
  },
  {
   "cell_type": "code",
   "execution_count": 9,
   "id": "2cc16b7c",
   "metadata": {},
   "outputs": [],
   "source": [
    "# Read in the data\n",
    "with open('Day 6 input.txt', 'r') as f:\n",
    "    fish = f.read().split(',')\n",
    "        \n",
    "for i, f in enumerate(fish):\n",
    "    fish[i] = int(f)"
   ]
  },
  {
   "cell_type": "code",
   "execution_count": 10,
   "id": "2cfb5567",
   "metadata": {},
   "outputs": [
    {
     "name": "stdout",
     "output_type": "stream",
     "text": [
      "After 256 days there are 1632146183902 fish.\n"
     ]
    }
   ],
   "source": [
    "# Test Code - Try different approach using Numpy matrices\n",
    "days = 256\n",
    "d = 0\n",
    "\n",
    "# print('Initial state:', fish)\n",
    "\n",
    "# Set up a matrix to hold the initial values of the fish\n",
    "fish_mat = np.zeros((1, 9))\n",
    "for i in range(fish_mat.shape[1]):\n",
    "    fish_mat[0,i] = fish.count(i)\n",
    "    \n",
    "# Start updating the matrix values following the pattern for fish reproduction:\n",
    "while d < days:\n",
    "    # Position 0 - Move to position 6 and add new items to position 8\n",
    "    # Keep a record of the number of new fish\n",
    "    new_fish = fish_mat[0, 0]\n",
    "\n",
    "    # Start moving positions down 1 item\n",
    "    for i in range(fish_mat.shape[1] - 1):\n",
    "        fish_mat[0,i] = fish_mat[0,i+1]\n",
    "\n",
    "    # Add on the new fish\n",
    "    fish_mat[0, 6] += new_fish\n",
    "    fish_mat[0, 8] = new_fish\n",
    "\n",
    "    # print('After', str(d+1), 'days: ', str(fish_mat))\n",
    "    \n",
    "    # Move to the next day\n",
    "    d += 1\n",
    "\n",
    "print('After', str(days), 'days there are', str(int(fish_mat.sum())), 'fish.')"
   ]
  },
  {
   "cell_type": "markdown",
   "id": "779c2910",
   "metadata": {},
   "source": [
    "### Run Time"
   ]
  },
  {
   "cell_type": "code",
   "execution_count": 11,
   "id": "aa2755a3",
   "metadata": {},
   "outputs": [
    {
     "name": "stdout",
     "output_type": "stream",
     "text": [
      "21.5 ms ± 876 µs per loop (mean ± std. dev. of 7 runs, 10 loops each)\n"
     ]
    }
   ],
   "source": [
    "%%timeit\n",
    "\n",
    "# Test Code - Original Implementation\n",
    "fish = [3,4,3,1,2]\n",
    "days = 80\n",
    "\n",
    "# print('Initial state:', fish)\n",
    "\n",
    "for i in range(days):\n",
    "    new_fish = fish.count(0)\n",
    "        \n",
    "    for j, f in enumerate(fish):\n",
    "        if f == 0:\n",
    "            fish[j] = 6\n",
    "        else:\n",
    "            fish[j] = f - 1\n",
    "    \n",
    "    fish = fish + ([8] * new_fish)\n",
    "    \n",
    "    # print('After', i+1, 'days:', fish)\n",
    "    \n",
    "# print('After', str(days), 'days there are', len(fish), 'fish.')"
   ]
  },
  {
   "cell_type": "code",
   "execution_count": 12,
   "id": "fb527609",
   "metadata": {},
   "outputs": [
    {
     "name": "stdout",
     "output_type": "stream",
     "text": [
      "384 µs ± 114 µs per loop (mean ± std. dev. of 7 runs, 1000 loops each)\n"
     ]
    }
   ],
   "source": [
    "%%timeit\n",
    "\n",
    "# Test Code - Try different approach using Numpy matrices\n",
    "fish = [3,4,3,1,2]\n",
    "days = 80\n",
    "d = 0\n",
    "\n",
    "# print('Initial state:', fish)\n",
    "\n",
    "# Set up a matrix to hold the initial values of the fish\n",
    "fish_mat = np.zeros((1, 9)).astype('int')\n",
    "for i in range(fish_mat.shape[1]):\n",
    "    fish_mat[0,i] = fish.count(i)\n",
    "    \n",
    "# Start updating the matrix values following the pattern for fish reproduction:\n",
    "while d < days:\n",
    "    # Position 0 - Move to position 6 and add new items to position 8\n",
    "    # Keep a record of the number of new fish\n",
    "    new_fish = fish_mat[0, 0]\n",
    "\n",
    "    # Start moving positions down 1 item\n",
    "    for i in range(fish_mat.shape[1] - 1):\n",
    "        fish_mat[0,i] = fish_mat[0,i+1]\n",
    "\n",
    "    # Add on the new fish\n",
    "    fish_mat[0, 6] += new_fish\n",
    "    fish_mat[0, 8] = new_fish\n",
    "\n",
    "    # print('After', str(d+1), 'days: ', str(fish_mat))\n",
    "    \n",
    "    # Move to the next day\n",
    "    d += 1\n",
    "\n",
    "# print('After', str(days), 'days there are', str(fish_mat.sum()), 'fish.')"
   ]
  },
  {
   "cell_type": "code",
   "execution_count": 13,
   "id": "9b9f7093",
   "metadata": {},
   "outputs": [
    {
     "name": "stdout",
     "output_type": "stream",
     "text": [
      "676 ms ± 36.8 ms per loop (mean ± std. dev. of 7 runs, 1 loop each)\n"
     ]
    }
   ],
   "source": [
    "%%timeit\n",
    "\n",
    "# Read in the data\n",
    "with open('Day 6 input.txt', 'r') as f:\n",
    "    fish = f.read().split(',')\n",
    "        \n",
    "for i, f in enumerate(fish):\n",
    "    fish[i] = int(f)\n",
    "\n",
    "# Original implementation using lists\n",
    "\n",
    "days = 80\n",
    "\n",
    "# print('Initial state:', fish)\n",
    "\n",
    "for i in range(days):\n",
    "    new_fish = fish.count(0)\n",
    "        \n",
    "    for j, f in enumerate(fish):\n",
    "        if f == 0:\n",
    "            fish[j] = 6\n",
    "        else:\n",
    "            fish[j] = f - 1\n",
    "    \n",
    "    fish = fish + ([8] * new_fish)\n",
    "    \n",
    "    # print('After', i+1, 'days:', fish)\n",
    "    \n",
    "# print('After', str(days), 'days there are', len(fish), 'fish.')"
   ]
  },
  {
   "cell_type": "code",
   "execution_count": 14,
   "id": "acd4930a",
   "metadata": {},
   "outputs": [
    {
     "name": "stdout",
     "output_type": "stream",
     "text": [
      "562 µs ± 10.9 µs per loop (mean ± std. dev. of 7 runs, 1000 loops each)\n"
     ]
    }
   ],
   "source": [
    "%%timeit\n",
    "\n",
    "# Read in the data\n",
    "with open('Day 6 input.txt', 'r') as f:\n",
    "    fish = f.read().split(',')\n",
    "        \n",
    "for i, f in enumerate(fish):\n",
    "    fish[i] = int(f)\n",
    "    \n",
    "# Second implementation using Numpy arrays\n",
    "days = 80\n",
    "d = 0\n",
    "\n",
    "# print('Initial state:', fish)\n",
    "\n",
    "# Set up a matrix to hold the initial values of the fish\n",
    "fish_mat = np.zeros((1, 9))\n",
    "for i in range(fish_mat.shape[1]):\n",
    "    fish_mat[0,i] = fish.count(i)\n",
    "    \n",
    "# Start updating the matrix values following the pattern for fish reproduction:\n",
    "while d < days:\n",
    "    # Position 0 - Move to position 6 and add new items to position 8\n",
    "    # Keep a record of the number of new fish\n",
    "    new_fish = fish_mat[0, 0]\n",
    "\n",
    "    # Start moving positions down 1 item\n",
    "    for i in range(fish_mat.shape[1] - 1):\n",
    "        fish_mat[0,i] = fish_mat[0,i+1]\n",
    "\n",
    "    # Add on the new fish\n",
    "    fish_mat[0, 6] += new_fish\n",
    "    fish_mat[0, 8] = new_fish\n",
    "\n",
    "    # print('After', str(d+1), 'days: ', str(fish_mat))\n",
    "    \n",
    "    # Move to the next day\n",
    "    d += 1\n",
    "\n",
    "# print('After', str(days), 'days there are', str(int(fish_mat.sum())), 'fish.')"
   ]
  },
  {
   "cell_type": "code",
   "execution_count": 15,
   "id": "e1076003",
   "metadata": {},
   "outputs": [
    {
     "name": "stdout",
     "output_type": "stream",
     "text": [
      "1.19 ms ± 9.68 µs per loop (mean ± std. dev. of 7 runs, 1000 loops each)\n"
     ]
    }
   ],
   "source": [
    "%%timeit\n",
    "\n",
    "# Read in the data\n",
    "with open('Day 6 input.txt', 'r') as f:\n",
    "    fish = f.read().split(',')\n",
    "        \n",
    "for i, f in enumerate(fish):\n",
    "    fish[i] = int(f)\n",
    "    \n",
    "# Test Code - Try different approach using Numpy matrices\n",
    "days = 256\n",
    "d = 0\n",
    "\n",
    "# print('Initial state:', fish)\n",
    "\n",
    "# Set up a matrix to hold the initial values of the fish\n",
    "fish_mat = np.zeros((1, 9))\n",
    "for i in range(fish_mat.shape[1]):\n",
    "    fish_mat[0,i] = fish.count(i)\n",
    "    \n",
    "# Start updating the matrix values following the pattern for fish reproduction:\n",
    "while d < days:\n",
    "    # Position 0 - Move to position 6 and add new items to position 8\n",
    "    # Keep a record of the number of new fish\n",
    "    new_fish = fish_mat[0, 0]\n",
    "\n",
    "    # Start moving positions down 1 item\n",
    "    for i in range(fish_mat.shape[1] - 1):\n",
    "        fish_mat[0,i] = fish_mat[0,i+1]\n",
    "\n",
    "    # Add on the new fish\n",
    "    fish_mat[0, 6] += new_fish\n",
    "    fish_mat[0, 8] = new_fish\n",
    "\n",
    "    # print('After', str(d+1), 'days: ', str(fish_mat))\n",
    "    \n",
    "    # Move to the next day\n",
    "    d += 1\n",
    "\n",
    "# print('After', str(days), 'days there are', str(int(fish_mat.sum())), 'fish.')"
   ]
  }
 ],
 "metadata": {
  "kernelspec": {
   "display_name": "Python 3 (ipykernel)",
   "language": "python",
   "name": "python3"
  },
  "language_info": {
   "codemirror_mode": {
    "name": "ipython",
    "version": 3
   },
   "file_extension": ".py",
   "mimetype": "text/x-python",
   "name": "python",
   "nbconvert_exporter": "python",
   "pygments_lexer": "ipython3",
   "version": "3.8.8"
  }
 },
 "nbformat": 4,
 "nbformat_minor": 5
}
